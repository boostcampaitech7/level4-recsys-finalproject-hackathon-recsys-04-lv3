{
 "cells": [
  {
   "cell_type": "code",
   "execution_count": 17,
   "metadata": {},
   "outputs": [],
   "source": [
    "# import library\n",
    "from pinecone import Pinecone, ServerlessSpec\n",
    "from langchain_pinecone import PineconeVectorStore\n",
    "from langchain_upstage import ChatUpstage, UpstageEmbeddings, UpstageGroundednessCheck\n",
    "from langchain.text_splitter import RecursiveCharacterTextSplitter\n",
    "from langchain_community.document_loaders import PyMuPDFLoader\n",
    "from langchain_core.documents import Document\n",
    "from dotenv import load_dotenv\n",
    "import glob\n",
    "import os"
   ]
  },
  {
   "cell_type": "markdown",
   "metadata": {},
   "source": [
    "### Pinecone Index 생성"
   ]
  },
  {
   "cell_type": "code",
   "execution_count": 18,
   "metadata": {},
   "outputs": [],
   "source": [
    "load_dotenv()\n",
    "api_key = os.environ.get(\"PINECONE_API_KEY\")\n",
    "\n",
    "pc = Pinecone(api_key=api_key)"
   ]
  },
  {
   "cell_type": "code",
   "execution_count": 19,
   "metadata": {},
   "outputs": [
    {
     "name": "stdout",
     "output_type": "stream",
     "text": [
      "quickstart is already exists.\n"
     ]
    }
   ],
   "source": [
    "index_name = \"quickstart\"\n",
    "if index_name not in [index_info[\"name\"] for index_info in pc.list_indexes()]:\n",
    "    pc.create_index(\n",
    "        name=index_name,\n",
    "        dimension=4096, \n",
    "        metric=\"dotproduct\",\n",
    "        spec=ServerlessSpec(\n",
    "            cloud=\"aws\",\n",
    "            region=\"us-east-1\"\n",
    "        ) \n",
    "    )\n",
    "    print(f\"{index_name} has been successfully created\")\n",
    "else:\n",
    "    print(f\"{index_name} is already exists.\")"
   ]
  },
  {
   "cell_type": "code",
   "execution_count": 20,
   "metadata": {},
   "outputs": [
    {
     "name": "stdout",
     "output_type": "stream",
     "text": [
      "{'indexes': [{'deletion_protection': 'disabled',\n",
      "              'dimension': 4096,\n",
      "              'host': 'quickstart-e04boic.svc.aped-4627-b74a.pinecone.io',\n",
      "              'metric': 'dotproduct',\n",
      "              'name': 'quickstart',\n",
      "              'spec': {'serverless': {'cloud': 'aws', 'region': 'us-east-1'}},\n",
      "              'status': {'ready': True, 'state': 'Ready'}}]}\n"
     ]
    }
   ],
   "source": [
    "print(pc.list_indexes())"
   ]
  },
  {
   "cell_type": "markdown",
   "metadata": {},
   "source": [
    "### Pinecone DB에 데이터 넣기"
   ]
  },
  {
   "cell_type": "code",
   "execution_count": 7,
   "metadata": {},
   "outputs": [
    {
     "data": {
      "text/plain": [
       "84"
      ]
     },
     "execution_count": 7,
     "metadata": {},
     "output_type": "execute_result"
    }
   ],
   "source": [
    "llm = ChatUpstage(api_key=os.environ.get(\"UPSTAGE_API_KEY\"), temperature=0)\n",
    "embeddings_passage = UpstageEmbeddings(model=\"embedding-passage\") #4096\n",
    "embeddings_query = UpstageEmbeddings(model=\"embedding-query\") #4096\n",
    "text_splitter = RecursiveCharacterTextSplitter(chunk_size=500, chunk_overlap=150)\n",
    "\n",
    "split_docs = []\n",
    "files = sorted(glob.glob(\"data/*.pdf\"))\n",
    "\n",
    "for file in files:\n",
    "    loader = PyMuPDFLoader(file)\n",
    "    split_docs.extend(loader.load_and_split(text_splitter))\n",
    "\n",
    "# 문서 개수 확인\n",
    "len(split_docs)"
   ]
  },
  {
   "cell_type": "code",
   "execution_count": 8,
   "metadata": {},
   "outputs": [],
   "source": [
    "def preprocess_docs(docs, keys = ['source', 'page'], min_len=10):\n",
    "    result_docs = []\n",
    "    for doc in docs:\n",
    "        doc.metadata = {key: doc.metadata[key] for key in keys}\n",
    "        if len(doc.page_content) > min_len:\n",
    "            result_docs.append(doc)\n",
    "    return result_docs\n",
    "\n",
    "split_docs = preprocess_docs(split_docs)"
   ]
  },
  {
   "cell_type": "code",
   "execution_count": 9,
   "metadata": {},
   "outputs": [],
   "source": [
    "# 불용어\n",
    "f = open(\"불용어.txt\", 'r') # https://www.ranks.nl/stopwords/korean\n",
    "stopwords = [word.rstrip() for word in list(f)]\n",
    "\n",
    "# 불용어 처리하는 로직 필요.\n",
    "def remove_stopwords(docs):\n",
    "    return docs"
   ]
  },
  {
   "cell_type": "code",
   "execution_count": 10,
   "metadata": {},
   "outputs": [],
   "source": [
    "docsearch = PineconeVectorStore.from_documents(split_docs, embeddings_passage, index_name=index_name)"
   ]
  },
  {
   "cell_type": "markdown",
   "metadata": {},
   "source": [
    "### Search query 보내기"
   ]
  },
  {
   "cell_type": "code",
   "execution_count": 21,
   "metadata": {},
   "outputs": [],
   "source": [
    "query = \"소수림왕이 한 일은?\"\n",
    "\n",
    "query_vector = embeddings_query.embed_query(query)\n",
    "\n",
    "client = Pinecone(api_key=os.environ.get(\"PINECONE_API_KEY\"), source_tag=\"langchain\")\n",
    "index = client.Index(index_name)\n",
    "\n",
    "results = index.query(vector = query_vector, top_k = 10, include_metadata=True)\n",
    "docs = []\n",
    "for res in results[\"matches\"]:\n",
    "    metadata = res[\"metadata\"]\n",
    "    id = res.get(\"id\")\n",
    "    if \"text\" in metadata:\n",
    "        text = metadata.pop(\"text\")\n",
    "        score = res[\"score\"]\n",
    "        docs.append(\n",
    "            (Document(id=id, page_content=text, metadata=metadata), score)\n",
    "        )\n",
    "    else:\n",
    "        print(f\"Found document with no text key. Skipping.\")"
   ]
  },
  {
   "cell_type": "code",
   "execution_count": 22,
   "metadata": {},
   "outputs": [
    {
     "data": {
      "text/plain": [
       "[(Document(id='8dbfa848-8570-485a-8741-3116e671f25a', metadata={'page': 16.0, 'source': 'data/한국사미리보기.pdf'}, page_content='하였고, 2세기 후반 고국천왕 사후 왕위 계승 분쟁을 고비로 왕위 부자 \\n계승 원칙이 확고해졌다. 4세기 후반 소수림왕은 태학을 설립하여 유학\\n을 장려하였으며, 율령\\n●을 반포하여 통치 조직을 새롭게 정비하였다.\\n4세기 말 광개토 대왕은 남쪽으로 백제를 압박한 후 신라에 침입한 \\n왜를 격퇴하였고, 북쪽으로는 후연과 거란을 물리쳐 영토를 넓혔다.  \\n5세기 초 장수왕은 도읍을 평양으로 옮기고, 백제의 수도 한성을 점령\\n한 후 한강 유역을 차지하였다(475). 고구려의 영토 확장 과정은 광개\\n토 대왕릉비와 충주 고구려비에 잘 나타나 있다.\\n백제가 한강 유역을 중심으로 주도권을 잡다\\n백제는 한강 유역의 지리적 이점과 철기 문화를 기반으로 성장하였\\n다. 3세기 중반 고이왕 때 좌평 관제를 마련하고 관복을 제정하는 등 \\n국가 조직을 정비하였다. 4세기 중반 근초고왕은 남으로 세력을 넓혀 \\n마한의 여러 소국을 복속해 나갔고, 고구려의 평양성을 공격하였으며'),\n",
       "  0.456811666),\n",
       " (Document(id='9ee2eeba-e1a3-44f5-a7a3-ce7b537e938e', metadata={'page': 16.0, 'source': 'data/한국사미리보기.pdf'}, page_content='하였고, 2세기 후반 고국천왕 사후 왕위 계승 분쟁을 고비로 왕위 부자 \\n계승 원칙이 확고해졌다. 4세기 후반 소수림왕은 태학을 설립하여 유학\\n을 장려하였으며, 율령\\n●을 반포하여 통치 조직을 새롭게 정비하였다.\\n4세기 말 광개토 대왕은 남쪽으로 백제를 압박한 후 신라에 침입한 \\n왜를 격퇴하였고, 북쪽으로는 후연과 거란을 물리쳐 영토를 넓혔다.  \\n5세기 초 장수왕은 도읍을 평양으로 옮기고, 백제의 수도 한성을 점령\\n한 후 한강 유역을 차지하였다(475). 고구려의 영토 확장 과정은 광개\\n토 대왕릉비와 충주 고구려비에 잘 나타나 있다.\\n백제가 한강 유역을 중심으로 주도권을 잡다\\n백제는 한강 유역의 지리적 이점과 철기 문화를 기반으로 성장하였\\n다. 3세기 중반 고이왕 때 좌평 관제를 마련하고 관복을 제정하는 등 \\n국가 조직을 정비하였다. 4세기 중반 근초고왕은 남으로 세력을 넓혀 \\n마한의 여러 소국을 복속해 나갔고, 고구려의 평양성을 공격하였으며'),\n",
       "  0.456739724),\n",
       " (Document(id='0548f2b1-977b-4cf6-a1ab-db9b8a7ab86f', metadata={'page': 16.0, 'source': 'data/한국사미리보기.pdf'}, page_content='하였고, 2세기 후반 고국천왕 사후 왕위 계승 분쟁을 고비로 왕위 부자 \\n계승 원칙이 확고해졌다. 4세기 후반 소수림왕은 태학을 설립하여 유학\\n을 장려하였으며, 율령\\n●을 반포하여 통치 조직을 새롭게 정비하였다.\\n4세기 말 광개토 대왕은 남쪽으로 백제를 압박한 후 신라에 침입한 \\n왜를 격퇴하였고, 북쪽으로는 후연과 거란을 물리쳐 영토를 넓혔다.  \\n5세기 초 장수왕은 도읍을 평양으로 옮기고, 백제의 수도 한성을 점령\\n한 후 한강 유역을 차지하였다(475). 고구려의 영토 확장 과정은 광개\\n토 대왕릉비와 충주 고구려비에 잘 나타나 있다.\\n백제가 한강 유역을 중심으로 주도권을 잡다\\n백제는 한강 유역의 지리적 이점과 철기 문화를 기반으로 성장하였\\n다. 3세기 중반 고이왕 때 좌평 관제를 마련하고 관복을 제정하는 등 \\n국가 조직을 정비하였다. 4세기 중반 근초고왕은 남으로 세력을 넓혀 \\n마한의 여러 소국을 복속해 나갔고, 고구려의 평양성을 공격하였으며'),\n",
       "  0.456491172),\n",
       " (Document(id='b08f55d5-9c3b-4655-af3b-79dd8f900fd9', metadata={'page': 16.0, 'source': 'data/한국사미리보기.pdf'}, page_content='교류하였으며, 일본에 불교를 전해 주기도 하였다.\\n5\\n10\\n15\\n20\\n 율령 \\n나라를 다스리기 위한 법과 제도로, 율령 반포는 \\n왕권 중심의 중앙 집권 체제 구축을 보여 준다.\\n 고구려의 발전(5세기)\\n5세기에 고구려는 만주 지역 대부분과 한강 이\\n북 지역을 차지하고, 강대국으로 성장하였다.\\n국내성\\n서안평\\n평양성\\n한성\\n실직\\n웅진\\n탐라\\n금성\\n금관가야(김해)\\n고구려\\n신라\\n가야\\n백제\\n한\\n압록강\\n랴오허강\\n두만강\\n강\\n동 해\\n황 해\\n후연\\n거란\\n부여\\n숙신\\n광개토 대왕릉비(414)\\n평양성 천도(427)\\n충주 고구려비\\n광개토 대왕의 진출 방향\\n장수왕의 진출 방향\\n우산국\\n독도\\n백두산\\n 환도산성과 산성하 고분군(중국 지린성)\\n요서\\n규슈\\n평양성\\n한성\\n탐라\\n금성\\n우산국\\n독도\\n고구려\\n전진\\n동진\\n신라\\n왜\\n가야\\n백제\\n한강\\n국내성\\n동 해\\n황 해\\n고구려 공격\\n마한 복속\\n진출 방향\\n교류 관계\\n백두산\\n 백제의 발전(4세기)\\n4세기 근초고왕은 가야, 왜, 중국의 남조 등과'),\n",
       "  0.428241581),\n",
       " (Document(id='454d2666-2920-4f57-a015-86b2cdff759e', metadata={'page': 16.0, 'source': 'data/한국사미리보기.pdf'}, page_content='교류하였으며, 일본에 불교를 전해 주기도 하였다.\\n5\\n10\\n15\\n20\\n 율령 \\n나라를 다스리기 위한 법과 제도로, 율령 반포는 \\n왕권 중심의 중앙 집권 체제 구축을 보여 준다.\\n 고구려의 발전(5세기)\\n5세기에 고구려는 만주 지역 대부분과 한강 이\\n북 지역을 차지하고, 강대국으로 성장하였다.\\n국내성\\n서안평\\n평양성\\n한성\\n실직\\n웅진\\n탐라\\n금성\\n금관가야(김해)\\n고구려\\n신라\\n가야\\n백제\\n한\\n압록강\\n랴오허강\\n두만강\\n강\\n동 해\\n황 해\\n후연\\n거란\\n부여\\n숙신\\n광개토 대왕릉비(414)\\n평양성 천도(427)\\n충주 고구려비\\n광개토 대왕의 진출 방향\\n장수왕의 진출 방향\\n우산국\\n독도\\n백두산\\n 환도산성과 산성하 고분군(중국 지린성)\\n요서\\n규슈\\n평양성\\n한성\\n탐라\\n금성\\n우산국\\n독도\\n고구려\\n전진\\n동진\\n신라\\n왜\\n가야\\n백제\\n한강\\n국내성\\n동 해\\n황 해\\n고구려 공격\\n마한 복속\\n진출 방향\\n교류 관계\\n백두산\\n 백제의 발전(4세기)\\n4세기 근초고왕은 가야, 왜, 중국의 남조 등과'),\n",
       "  0.427965164),\n",
       " (Document(id='49c9731c-2255-4804-a369-4ccbece01f77', metadata={'page': 16.0, 'source': 'data/한국사미리보기.pdf'}, page_content='교류하였으며, 일본에 불교를 전해 주기도 하였다.\\n5\\n10\\n15\\n20\\n 율령 \\n나라를 다스리기 위한 법과 제도로, 율령 반포는 \\n왕권 중심의 중앙 집권 체제 구축을 보여 준다.\\n 고구려의 발전(5세기)\\n5세기에 고구려는 만주 지역 대부분과 한강 이\\n북 지역을 차지하고, 강대국으로 성장하였다.\\n국내성\\n서안평\\n평양성\\n한성\\n실직\\n웅진\\n탐라\\n금성\\n금관가야(김해)\\n고구려\\n신라\\n가야\\n백제\\n한\\n압록강\\n랴오허강\\n두만강\\n강\\n동 해\\n황 해\\n후연\\n거란\\n부여\\n숙신\\n광개토 대왕릉비(414)\\n평양성 천도(427)\\n충주 고구려비\\n광개토 대왕의 진출 방향\\n장수왕의 진출 방향\\n우산국\\n독도\\n백두산\\n 환도산성과 산성하 고분군(중국 지린성)\\n요서\\n규슈\\n평양성\\n한성\\n탐라\\n금성\\n우산국\\n독도\\n고구려\\n전진\\n동진\\n신라\\n왜\\n가야\\n백제\\n한강\\n국내성\\n동 해\\n황 해\\n고구려 공격\\n마한 복속\\n진출 방향\\n교류 관계\\n백두산\\n 백제의 발전(4세기)\\n4세기 근초고왕은 가야, 왜, 중국의 남조 등과'),\n",
       "  0.427740514),\n",
       " (Document(id='ba58e207-3692-45d9-8745-22a643a5c716', metadata={'page': 17.0, 'source': 'data/한국사미리보기.pdf'}, page_content='되어 있다. 특히, 울진 봉평리 신라비에는 법흥왕을 마립간이라는 의미의 ‘매금\\n왕’으로 기록하고 있어 강력한 왕권을 완전히 확립하지 못하였음을 보여 준다. \\n그러나 불교를 공인한 이후에 새긴 울주 천전리 각석에는 ‘성법흥대왕(聖法興\\n大王)’이라 새겨져 있어 왕이 ‘대왕’으로 격상되었음을 알 수 있다.\\n554 \\n관산성 전투에서 성왕 전사\\n433 \\n나제 동맹\\n475 \\n 고구려 장수왕, 한성 함락 \\n백제, 웅진 천도\\n553 \\n신라, 한강 유역 진출\\n  울주 천전리 각석(울\\n산 울주)의 ‘성법흥\\n대왕’ 글자\\n  포항 냉수리 신라비\\n(경북 포항)\\n 고령 지산동 고분군(경북 고령)\\n4~6세기경 만들어진 대가야 지배층의 무덤으로 \\n추정된다.\\n평양 \\n우산도\\n독도\\n당항성 \\n \\n북한산비(568 이후 추정)\\n마운령비(568)\\n창녕비(561)\\n황초령비(568) \\n단양 적성비\\n(551 추정)\\n \\n \\n \\n 대가야 \\n금관가야 \\n관산성 \\n국내성 \\n웅진 \\n사비 \\n금성 \\n하슬라 \\n실직 \\n탐라 \\n동 해 \\n황 해'),\n",
       "  0.422388673),\n",
       " (Document(id='349977d2-1176-4d28-a683-fa208d07ed07', metadata={'page': 17.0, 'source': 'data/한국사미리보기.pdf'}, page_content='되어 있다. 특히, 울진 봉평리 신라비에는 법흥왕을 마립간이라는 의미의 ‘매금\\n왕’으로 기록하고 있어 강력한 왕권을 완전히 확립하지 못하였음을 보여 준다. \\n그러나 불교를 공인한 이후에 새긴 울주 천전리 각석에는 ‘성법흥대왕(聖法興\\n大王)’이라 새겨져 있어 왕이 ‘대왕’으로 격상되었음을 알 수 있다.\\n554 \\n관산성 전투에서 성왕 전사\\n433 \\n나제 동맹\\n475 \\n 고구려 장수왕, 한성 함락 \\n백제, 웅진 천도\\n553 \\n신라, 한강 유역 진출\\n  울주 천전리 각석(울\\n산 울주)의 ‘성법흥\\n대왕’ 글자\\n  포항 냉수리 신라비\\n(경북 포항)\\n 고령 지산동 고분군(경북 고령)\\n4~6세기경 만들어진 대가야 지배층의 무덤으로 \\n추정된다.\\n평양 \\n우산도\\n독도\\n당항성 \\n \\n북한산비(568 이후 추정)\\n마운령비(568)\\n창녕비(561)\\n황초령비(568) \\n단양 적성비\\n(551 추정)\\n \\n \\n \\n 대가야 \\n금관가야 \\n관산성 \\n국내성 \\n웅진 \\n사비 \\n금성 \\n하슬라 \\n실직 \\n탐라 \\n동 해 \\n황 해'),\n",
       "  0.422378182),\n",
       " (Document(id='3e4fbdcc-0e2d-42c9-a4a1-fd45894f547d', metadata={'page': 17.0, 'source': 'data/한국사미리보기.pdf'}, page_content='되어 있다. 특히, 울진 봉평리 신라비에는 법흥왕을 마립간이라는 의미의 ‘매금\\n왕’으로 기록하고 있어 강력한 왕권을 완전히 확립하지 못하였음을 보여 준다. \\n그러나 불교를 공인한 이후에 새긴 울주 천전리 각석에는 ‘성법흥대왕(聖法興\\n大王)’이라 새겨져 있어 왕이 ‘대왕’으로 격상되었음을 알 수 있다.\\n554 \\n관산성 전투에서 성왕 전사\\n433 \\n나제 동맹\\n475 \\n 고구려 장수왕, 한성 함락 \\n백제, 웅진 천도\\n553 \\n신라, 한강 유역 진출\\n  울주 천전리 각석(울\\n산 울주)의 ‘성법흥\\n대왕’ 글자\\n  포항 냉수리 신라비\\n(경북 포항)\\n 고령 지산동 고분군(경북 고령)\\n4~6세기경 만들어진 대가야 지배층의 무덤으로 \\n추정된다.\\n평양 \\n우산도\\n독도\\n당항성 \\n \\n북한산비(568 이후 추정)\\n마운령비(568)\\n창녕비(561)\\n황초령비(568) \\n단양 적성비\\n(551 추정)\\n \\n \\n \\n 대가야 \\n금관가야 \\n관산성 \\n국내성 \\n웅진 \\n사비 \\n금성 \\n하슬라 \\n실직 \\n탐라 \\n동 해 \\n황 해'),\n",
       "  0.422273189),\n",
       " (Document(id='a5d26832-da2c-4a9c-aca3-b9664997b159', metadata={'page': 17.0, 'source': 'data/한국사미리보기.pdf'}, page_content='역사 더 알기\\n비석에 새겨져 있는 신라의 왕권 강화 과정\\n신라가 한강 유역을 차지하다\\n진한의 사로국은 초기에 왕권이 미약하였으나, 뛰어난 철기 문화를 바\\n탕으로 주변 소국을 정복하며 신라로 발전하였다. 4세기 후반 내물왕은 \\n왕권을 강화하면서 중앙 집권 국가로 발전할 수 있는 기틀을 마련하였고, \\n진한 각 지역 소국들에 대한 통제도 강화하였다. 왕의 칭호도 대군장\\n을 뜻하는 마립간을 사용하였고, 김씨의 왕위 세습권을 확립하였다.\\n6세기에 지증왕은 국호를 신라로 확정하고, 왕호를 ‘왕’으로 바꾸\\n었다. 법흥왕은 율령을 반포하고 불교를 공인하였으며, 병부와 상대\\n등을 설치하는 등 통치 체제를 정비하였다. 6세기 중반 진흥왕은 고\\n구려와 백제를 공격하여 한강 유역을 차지하고, 대가야를 정복하여 \\n가야 지역 전체를 장악하였다. \\n가야 연맹이 낙동강 하류에 자리 잡다\\n낙동강 하류의 변한에서는 여러 정치 집단이 등장하였는데, 3세기'),\n",
       "  0.410211265)]"
      ]
     },
     "execution_count": 22,
     "metadata": {},
     "output_type": "execute_result"
    }
   ],
   "source": [
    "docs"
   ]
  },
  {
   "cell_type": "code",
   "execution_count": 25,
   "metadata": {},
   "outputs": [
    {
     "data": {
      "text/plain": [
       "'소수림왕은 고구려의 제15대 왕으로, 371년부터 384년까지 재위했습니다. 그의 주요 업적 중 하나는 불교를 고구려에 전파한 것입니다. 소수림왕은 불교를 받아들여 국가의 안정과 번영을 도모하고자 했습니다. 이를 위해 그는 불교 사찰인 초문사(初門寺)를 건립하고, 불교 경전을 번역하여 보급하는 등의 노력을 기울였습니다.\\n\\n또한 소수림왕은 군사적인 정복 활동을 통해 고구려의 영토를 확장했습니다. 그는 백제와 신라와의 전투에서 승리를 거두며 고구려의 국력을 강화했습니다. 이를 통해 고구려는 동북아시아의 강대국으로 성장하게 되었습니다.\\n\\n소수림왕은 고구려의 문화와 예술에도 큰 관심을 가졌습니다. 그는 예술과 학문을 장려하여 고구려의 문화적인 발전을 촉진했습니다. 그의 통치는 고구려의 역사에서 중요한 시기로 평가되고 있습니다.'"
      ]
     },
     "execution_count": 25,
     "metadata": {},
     "output_type": "execute_result"
    }
   ],
   "source": [
    "response_llm = llm.invoke(query)\n",
    "response_llm.content"
   ]
  },
  {
   "cell_type": "code",
   "execution_count": 26,
   "metadata": {},
   "outputs": [
    {
     "data": {
      "text/plain": [
       "'소수림왕은 4세기 후반에 고구려의 왕으로, 태학을 설립하여 유학을 장려하고, 율령을 반포하여 통치 조직을 새롭게 정비하였습니다.'"
      ]
     },
     "execution_count": 26,
     "metadata": {},
     "output_type": "execute_result"
    }
   ],
   "source": [
    "prompt = f\"Question: {query}\\n 사전지식: {docs[0][0].page_content}\\n 사전 지식을 활용해서 Question에 대한 답변을 해줘\"\n",
    "response_llm_with_RAG = llm.invoke(prompt)\n",
    "response_llm_with_RAG.content"
   ]
  },
  {
   "cell_type": "code",
   "execution_count": 29,
   "metadata": {},
   "outputs": [
    {
     "name": "stdout",
     "output_type": "stream",
     "text": [
      "grounded\n"
     ]
    }
   ],
   "source": [
    "groundedness_check = UpstageGroundednessCheck()\n",
    "request_input = {\n",
    "    \"context\": response_llm_with_RAG.content,\n",
    "    \"answer\": response_llm.content,\n",
    "}\n",
    "response = groundedness_check.invoke(request_input)\n",
    "print(response)"
   ]
  },
  {
   "cell_type": "markdown",
   "metadata": {},
   "source": [
    "### hybrid retrieval\n",
    "https://arxiv.org/abs/2210.11934\n",
    "\n",
    "https://docs.pinecone.io/guides/data/understanding-hybrid-search\n",
    "\n",
    "serverless 환경과 pod-based 환경 사이에 정확도 차이가 있을 수 있음. \n",
    " - serverless: query planner가 dense vecotr의 유사성을 기준으로 cluster를 선택 후, dense, sparse 고려해서 다시 선택.\n",
    " - pod-based는 처음부터 둘다 고려하나 봄.."
   ]
  },
  {
   "cell_type": "code",
   "execution_count": null,
   "metadata": {},
   "outputs": [],
   "source": []
  }
 ],
 "metadata": {
  "kernelspec": {
   "display_name": "venv",
   "language": "python",
   "name": "python3"
  },
  "language_info": {
   "codemirror_mode": {
    "name": "ipython",
    "version": 3
   },
   "file_extension": ".py",
   "mimetype": "text/x-python",
   "name": "python",
   "nbconvert_exporter": "python",
   "pygments_lexer": "ipython3",
   "version": "3.12.2"
  }
 },
 "nbformat": 4,
 "nbformat_minor": 2
}
