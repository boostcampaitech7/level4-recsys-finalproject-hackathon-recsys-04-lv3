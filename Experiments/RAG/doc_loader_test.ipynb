{
 "cells": [
  {
   "cell_type": "markdown",
   "metadata": {},
   "source": [
    "# Document Loader(문서 로더) 테스트 "
   ]
  },
  {
   "cell_type": "code",
   "execution_count": 1,
   "metadata": {},
   "outputs": [],
   "source": [
    "import os\n",
    "\n",
    "from langchain_community.document_loaders import PyPDFLoader\n",
    "from langchain_community.document_loaders import PyMuPDFLoader\n",
    "from langchain_community.document_loaders import PyPDFium2Loader\n",
    "from langchain_community.document_loaders import PDFMinerLoader\n",
    "from langchain_community.document_loaders import PDFPlumberLoader"
   ]
  },
  {
   "cell_type": "code",
   "execution_count": 2,
   "metadata": {},
   "outputs": [],
   "source": [
    "def show_metadata(docs):\n",
    "    if docs:\n",
    "        print(\"[metadata]\")\n",
    "        print(list(docs[0].metadata.keys()))\n",
    "        print(\"\\n[examples]\")\n",
    "        max_key_length = max(len(k) for k in docs[0].metadata.keys())\n",
    "        for k, v in docs[0].metadata.items():\n",
    "            print(f\"{k:<{max_key_length}} : {v}\")"
   ]
  },
  {
   "cell_type": "code",
   "execution_count": 3,
   "metadata": {},
   "outputs": [
    {
     "data": {
      "text/plain": [
       "True"
      ]
     },
     "execution_count": 3,
     "metadata": {},
     "output_type": "execute_result"
    }
   ],
   "source": [
    "file_path = \"./data/politics_and_the_law_page_10-38.pdf\"\n",
    "\n",
    "num = 1\n",
    "txt_len = 500\n",
    "\n",
    "os.path.isfile(file_path)"
   ]
  },
  {
   "cell_type": "markdown",
   "metadata": {},
   "source": [
    "## PyPDF"
   ]
  },
  {
   "cell_type": "code",
   "execution_count": 4,
   "metadata": {},
   "outputs": [
    {
     "name": "stdout",
     "output_type": "stream",
     "text": [
      "               •정치의 의미를 다양한 관점에서 이해할 수 있다.\n",
      "•구체적 사례를 통해 정치의 기능을 설명할 수 있다.정치의 의미와 기능\n",
      "정치의 의미\n",
      "개인이나 집단이 추구하는 가치는 다양하다. 더 많은 부를 가지려고 하고 명\n",
      "예, 사회적 지위, 권력 등도 추구한다. 그러나 이러한 가치는 제한되어 있고, 인\n",
      "간은 제한된 가치를 두고 경쟁하는 가운데 이해관계가 대립하는 상황에 놓이게 된다. 나아가 개인이나 집단 사이의 대립이 투쟁으로 이어질 경우 사회는 혼란과 무질서 상태에 빠지게 되고 궁극적으로는 개인의 삶이 위태로워진다. 정치는 이러한 문제를 예방하거나 해결해 가는 일련의 활동을 의미한다. 즉, 정치는 개인과 \n",
      "개인, 개인과 집단, 집단과 집단 등 사회 구성원들 사이에서 발생하는 \n",
      "이해관계의 \n",
      "대립과 충돌을 해결하여 사회의 통합 과 질서를 유지하는 행위를 뜻한다.\n",
      "학습 목표\n",
      "01아리스토텔레스가 말하는 “인간은 정치적 \n",
      "동물(Homo Politicus)이다. ”에서 정치란 \n",
      "--------------------\n",
      "[metadata]\n",
      "['source', 'page']\n",
      "\n",
      "[examples]\n",
      "source : ./data/politics_and_the_law_page_10-38.pdf\n",
      "page   : 0\n"
     ]
    }
   ],
   "source": [
    "# 파일 경로 설정\n",
    "loader = PyPDFLoader(file_path)\n",
    "\n",
    "# PDF 로더 초기화\n",
    "docs = loader.load()\n",
    "\n",
    "# 문서의 내용 출력\n",
    "print(docs[num].page_content[:txt_len])\n",
    "\n",
    "# 메타데이터 출력\n",
    "print(\"--\"*10)\n",
    "show_metadata(docs)"
   ]
  },
  {
   "cell_type": "markdown",
   "metadata": {},
   "source": [
    "## PyPDF(OCR)\n",
    "\n",
    "일부 PDF에는 스캔된 문서나 그림 내에 텍스트 이미지가 포함되어 있습니다. rapidocr-onnxruntime 패키지를 사용하여 이미지에서 텍스트를 추출할 수도 있습니다."
   ]
  },
  {
   "cell_type": "code",
   "execution_count": 5,
   "metadata": {},
   "outputs": [
    {
     "name": "stdout",
     "output_type": "stream",
     "text": [
      "               •정치의 의미를 다양한 관점에서 이해할 수 있다.\n",
      "•구체적 사례를 통해 정치의 기능을 설명할 수 있다.정치의 의미와 기능\n",
      "정치의 의미\n",
      "개인이나 집단이 추구하는 가치는 다양하다. 더 많은 부를 가지려고 하고 명\n",
      "예, 사회적 지위, 권력 등도 추구한다. 그러나 이러한 가치는 제한되어 있고, 인\n",
      "간은 제한된 가치를 두고 경쟁하는 가운데 이해관계가 대립하는 상황에 놓이게 된다. 나아가 개인이나 집단 사이의 대립이 투쟁으로 이어질 경우 사회는 혼란과 무질서 상태에 빠지게 되고 궁극적으로는 개인의 삶이 위태로워진다. 정치는 이러한 문제를 예방하거나 해결해 가는 일련의 활동을 의미한다. 즉, 정치는 개인과 \n",
      "개인, 개인과 집단, 집단과 집단 등 사회 구성원들 사이에서 발생하는 \n",
      "이해관계의 \n",
      "대립과 충돌을 해결하여 사회의 통합 과 질서를 유지하는 행위를 뜻한다.\n",
      "학습 목표\n",
      "01아리스토텔레스가 말하는 “인간은 정치적 \n",
      "동물(Homo Politicus)이다. ”에서 정치란 \n",
      "--------------------\n",
      "[metadata]\n",
      "['source', 'page']\n",
      "\n",
      "[examples]\n",
      "source : ./data/politics_and_the_law_page_10-38.pdf\n",
      "page   : 0\n"
     ]
    }
   ],
   "source": [
    "# 파일 경로 설정\n",
    "loader = PyPDFLoader(file_path, extract_images=True)\n",
    "\n",
    "# PDF 로더 초기화\n",
    "docs = loader.load()\n",
    "\n",
    "# 문서의 내용 출력\n",
    "print(docs[num].page_content[:txt_len])\n",
    "\n",
    "# 메타데이터 출력\n",
    "print(\"--\"*10)\n",
    "show_metadata(docs)"
   ]
  },
  {
   "cell_type": "markdown",
   "metadata": {},
   "source": [
    "## PyMuPDF\n",
    "\n",
    "PyMuPDF 는 속도 최적화가 되어 있으며, PDF 및 해당 페이지에 대한 자세한 메타데이터를 포함하고 있습니다. 페이지 당 하나의 문서를 반환합니다"
   ]
  },
  {
   "cell_type": "code",
   "execution_count": null,
   "metadata": {},
   "outputs": [
    {
     "name": "stdout",
     "output_type": "stream",
     "text": [
      "•정치의 의미를 다양한 관점에서 이해할 수 있다.\n",
      "•구체적 사례를 통해 정치의 기능을 설명할 수 있다.\n",
      "정치의 의미와 기능\n",
      "정치의 의미\n",
      "개인이나 집단이 추구하는 가치는 다양하다. 더 많은 부를 가지려고 하고 명\n",
      "예, 사회적 지위, 권력 등도 추구한다. 그러나 이러한 가치는 제한되어 있고, 인\n",
      "간은 제한된 가치를 두고 경쟁하는 가운데 이해관계가 대립하는 상황에 놓이게 \n",
      "된다. 나아가 개인이나 집단 사이의 대립이 투쟁으로 이어질 경우 사회는 혼란과 \n",
      "무질서 상태에 빠지게 되고 궁극적으로는 개인의 삶이 위태로워진다. 정치는 이\n",
      "러한 문제를 예방하거나 해결해 가는 일련의 활동을 의미한다. 즉, 정치는 개인과 \n",
      "개인, 개인과 집단, 집단과 집단 등 사회 구성원들 사이에서 발생하는 이해관계의 \n",
      "대립과 충돌을 해결하여 사회의 통합과 질서를 유지하는 행위를 뜻한다.\n",
      "학습 목표\n",
      "01\n",
      "아리스토텔레스가 말하는 “인간은 정치적 \n",
      "동물(Homo Politicus)이다.”에서 정치란 \n",
      "어떤 의미를 담고 있을\n",
      "--------------------\n",
      "[metadata]\n",
      "['source', 'file_path', 'page', 'total_pages', 'format', 'title', 'author', 'subject', 'keywords', 'creator', 'producer', 'creationDate', 'modDate', 'trapped']\n",
      "\n",
      "[examples]\n",
      "source       : ./data/politics_and_the_law_page_10-38.pdf\n",
      "file_path    : ./data/politics_and_the_law_page_10-38.pdf\n",
      "page         : 0\n",
      "total_pages  : 29\n",
      "format       : PDF 1.6\n",
      "title        : \n",
      "author       : \n",
      "subject      : \n",
      "keywords     : \n",
      "creator      : \n",
      "producer     : PyPDF2\n",
      "creationDate : \n",
      "modDate      : \n",
      "trapped      : \n"
     ]
    }
   ],
   "source": [
    "# 파일 경로 설정\n",
    "loader = PyMuPDFLoader(file_path)\n",
    "\n",
    "# PDF 로더 초기화\n",
    "docs = loader.load()\n",
    "\n",
    "# 문서의 내용 출력\n",
    "print(docs[num].page_content[:txt_len])\n",
    "\n",
    "# 메타데이터 출력\n",
    "print(\"--\"*10)\n",
    "show_metadata(docs)"
   ]
  },
  {
   "cell_type": "markdown",
   "metadata": {},
   "source": [
    "## PyPDFium2Loader"
   ]
  },
  {
   "cell_type": "code",
   "execution_count": 7,
   "metadata": {},
   "outputs": [
    {
     "name": "stderr",
     "output_type": "stream",
     "text": [
      "/Users/sean/anaconda3/envs/aitech311/lib/python3.11/site-packages/pypdfium2/_helpers/textpage.py:80: UserWarning: get_text_range() call with default params will be implicitly redirected to get_text_bounded()\n",
      "  warnings.warn(\"get_text_range() call with default params will be implicitly redirected to get_text_bounded()\")\n"
     ]
    },
    {
     "name": "stdout",
     "output_type": "stream",
     "text": [
      "•정치의 의미를 다양한 관점에서 이해할 수 있다.\n",
      "•구체적 사례를 통해 정치의 기능을 설명할 수 있다.\n",
      "정치의 의미와 기능\n",
      "정치의 의미\n",
      "개인이나 집단이 추구하는 가치는 다양하다. 더 많은 부를 가지려고 하고 명\n",
      "예, 사회적 지위, 권력 등도 추구한다. 그러나 이러한 가치는 제한되어 있고, 인\n",
      "간은 제한된 가치를 두고 경쟁하는 가운데 이해관계가 대립하는 상황에 놓이게 \n",
      "된다. 나아가 개인이나 집단 사이의 대립이 투쟁으로 이어질 경우 사회는 혼란과 \n",
      "무질서 상태에 빠지게 되고 궁극적으로는 개인의 삶이 위태로워진다. 정치는 이\n",
      "러한 문제를 예방하거나 해결해 가는 일련의 활동을 의미한다. 즉, 정치는 개인과 \n",
      "개인, 개인과 집단, 집단과 집단 등 사회 구성원들 사이에서 발생하는 이해관계의 \n",
      "대립과 충돌을 해결하여 사회의 통합과 질서를 유지하는 행위를 뜻한다.\n",
      "학습 목표\n",
      "01 아리스토텔레스가 말하는 “인간은 정치적 \n",
      "동물(Homo Politicus)이다.”에서 정치란\n",
      "--------------------\n",
      "[metadata]\n",
      "['source', 'page']\n",
      "\n",
      "[examples]\n",
      "source : ./data/politics_and_the_law_page_10-38.pdf\n",
      "page   : 0\n"
     ]
    }
   ],
   "source": [
    "# 파일 경로 설정\n",
    "loader = PyPDFium2Loader(file_path)\n",
    "\n",
    "# PDF 로더 초기화\n",
    "docs = loader.load()\n",
    "\n",
    "# 문서의 내용 출력\n",
    "print(docs[num].page_content[:txt_len])\n",
    "\n",
    "# 메타데이터 출력\n",
    "print(\"--\"*10)\n",
    "show_metadata(docs)"
   ]
  },
  {
   "cell_type": "markdown",
   "metadata": {},
   "source": [
    "## PDFMinerLoader"
   ]
  },
  {
   "cell_type": "code",
   "execution_count": 8,
   "metadata": {},
   "outputs": [
    {
     "name": "stdout",
     "output_type": "stream",
     "text": [
      "1\n",
      "1               \n",
      "\n",
      "생각 열기 \n",
      "\n",
      "정치와 법 \n",
      "\n",
      "민주 국가에서 선거를 통해 선출된 국민의 대표는 정치 활동을 통해 법을 만들고, 정부는 이러한 \n",
      "\n",
      "법에 근거해서 국가를 운영한다. 따라서 국민이 어떤 대표를 뽑느냐에 따라 만들어지는 법도 달라\n",
      "\n",
      "지고 국가의 운영 역시 달라진다. 민주 국가에서 국민이 주인이라는 말은 이러한 의미에서 이해할 \n",
      "\n",
      "수 있다.\n",
      "\n",
      "정치권력은 처벌을 가할 수 있는 법률을 만드는 권리를 \n",
      "\n",
      "의미한다. 또한 재산을 규제하고 보전하기 위해 강제력을 행\n",
      "\n",
      "사할 수 있는 권리이며, 외적의 침입으로부터 국가를 방어하\n",
      "\n",
      "기 위해서 무력을 사용하는 권리이다. 그리고 정치권력은 오\n",
      "\n",
      "직 공공선을 위해서만 행사하는 권리이다.\n",
      "\n",
      "- 로크, 『통치론』\n",
      "\n",
      "로크 ▶ \n",
      "\n",
      "(Locke, John, 1632~1704)\n",
      "\n",
      "법률로 특정한 개인들이 이기적인 이익을 추구\n",
      "\n",
      "하는 것을 방지해야 한다. 그렇지 않은 한 개인의 \n",
      "\n",
      "이익은  공동의  이익과  갈등을  일으키고  공동체를 \n",
      "\n",
      "황폐\n",
      "--------------------\n",
      "[metadata]\n",
      "['source']\n",
      "\n",
      "[examples]\n",
      "source : ./data/politics_and_the_law_page_10-38.pdf\n"
     ]
    }
   ],
   "source": [
    "# 파일 경로 설정\n",
    "loader = PDFMinerLoader(file_path)\n",
    "\n",
    "# PDF 로더 초기화\n",
    "docs = loader.load()\n",
    "\n",
    "# 문서의 내용 출력\n",
    "print(len(docs))\n",
    "print(docs[0].page_content[:txt_len])\n",
    "\n",
    "# 메타데이터 출력\n",
    "print(\"--\"*10)\n",
    "show_metadata(docs)"
   ]
  },
  {
   "cell_type": "markdown",
   "metadata": {},
   "source": [
    "## PDFPlumberLoader"
   ]
  },
  {
   "cell_type": "code",
   "execution_count": 9,
   "metadata": {},
   "outputs": [
    {
     "name": "stdout",
     "output_type": "stream",
     "text": [
      "01\n",
      "정치의 의미와 기능 아리스토텔레스가 말하는 “인간은 정치적\n",
      "동물(Homo Politicus)이다.”에서 정치란\n",
      "어떤 의미를 담고 있을까?\n",
      "•정치의 의미를 다양한 관점에서 이해할 수 있다.\n",
      "학습 목표\n",
      "•구체적 사례를 통해 정치의 기능을 설명할 수 있다.\n",
      "아리스토텔레스 ▶\n",
      "(Aristoteles, 기원전 384~기원전 322)\n",
      "활동\n",
      "정치란 무엇일까?\n",
      "국회, 법원, 행정부 지위나 부, 권력\n",
      "등 국가 기관이 국가를 등의 사회적 희소가치를 개인이나 집단 간의\n",
      "운영하는 활동이라고 배분하는 활동이 갈등을 조정, 해결하는\n",
      "권력을 획득·유지하고 생각해. 아닐까? 활동이야.\n",
      "행사하는 일련의\n",
      "활동을 의미해.\n",
      "1 학생들의 대답을 참고하여 각자 생각하는 정치의 의미를, 그렇게 생각하는 이유와 함께 말해 보자.\n",
      "2 나의 일과 중 정치의 영향을 받는 일들을 찾아서 말해 보자.\n",
      "정치의 의미\n",
      "개인이나 집단이 추구하는 가치는 다양하다. 더 많은 부를 가지려고 하고 명\n",
      "예, 사회적 지위, 권력 등도 추구한다. \n",
      "--------------------\n",
      "[metadata]\n",
      "['source', 'file_path', 'page', 'total_pages', 'Producer']\n",
      "\n",
      "[examples]\n",
      "source      : ./data/politics_and_the_law_page_10-38.pdf\n",
      "file_path   : ./data/politics_and_the_law_page_10-38.pdf\n",
      "page        : 0\n",
      "total_pages : 29\n",
      "Producer    : PyPDF2\n"
     ]
    }
   ],
   "source": [
    "# 파일 경로 설정\n",
    "loader = PDFPlumberLoader(file_path)\n",
    "\n",
    "# PDF 로더 초기화\n",
    "docs = loader.load()\n",
    "\n",
    "# 문서의 내용 출력\n",
    "print(docs[num].page_content[:txt_len])\n",
    "\n",
    "# 메타데이터 출력\n",
    "print(\"--\"*10)\n",
    "show_metadata(docs)"
   ]
  },
  {
   "cell_type": "code",
   "execution_count": null,
   "metadata": {},
   "outputs": [],
   "source": []
  },
  {
   "cell_type": "code",
   "execution_count": null,
   "metadata": {},
   "outputs": [],
   "source": []
  }
 ],
 "metadata": {
  "kernelspec": {
   "display_name": "aitech311",
   "language": "python",
   "name": "python3"
  },
  "language_info": {
   "codemirror_mode": {
    "name": "ipython",
    "version": 3
   },
   "file_extension": ".py",
   "mimetype": "text/x-python",
   "name": "python",
   "nbconvert_exporter": "python",
   "pygments_lexer": "ipython3",
   "version": "3.11.11"
  }
 },
 "nbformat": 4,
 "nbformat_minor": 2
}
