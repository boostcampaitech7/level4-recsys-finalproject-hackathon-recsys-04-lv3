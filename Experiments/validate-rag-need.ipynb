{
 "cells": [
  {
   "cell_type": "markdown",
   "metadata": {},
   "source": [
    "# RAG 사용 유무에 따른 피드백 결과 비교"
   ]
  },
  {
   "cell_type": "code",
   "execution_count": 50,
   "metadata": {},
   "outputs": [
    {
     "data": {
      "text/plain": [
       "AIMessage(content='Hello, there! How can I assist you today?', additional_kwargs={'refusal': None}, response_metadata={'token_usage': {'completion_tokens': 12, 'prompt_tokens': 14, 'total_tokens': 26, 'completion_tokens_details': None, 'prompt_tokens_details': None}, 'model_name': 'solar-pro-241126', 'system_fingerprint': None, 'finish_reason': 'stop', 'logprobs': None}, id='run-72c9017f-72de-40f3-9382-7c185030813d-0', usage_metadata={'input_tokens': 14, 'output_tokens': 12, 'total_tokens': 26, 'input_token_details': {}, 'output_token_details': {}})"
      ]
     },
     "execution_count": 50,
     "metadata": {},
     "output_type": "execute_result"
    }
   ],
   "source": [
    "from langchain_upstage import ChatUpstage\n",
    "\n",
    "llm = ChatUpstage(model=\"solar-pro\")\n",
    "llm.invoke(\"Hello, world!\")"
   ]
  },
  {
   "cell_type": "markdown",
   "metadata": {},
   "source": [
    "## 1. 피드백"
   ]
  },
  {
   "cell_type": "code",
   "execution_count": 51,
   "metadata": {},
   "outputs": [],
   "source": [
    "import time"
   ]
  },
  {
   "cell_type": "code",
   "execution_count": 52,
   "metadata": {},
   "outputs": [],
   "source": [
    "# 예시 텍스트\n",
    "text = \"\"\"\n",
    "별의 형성 성운 단계:성운(가스와 먼지 구름)이 온도 하강으로 인해 수축이 시작.중심부가 차가워지며 밀도가 높아지고, 원시별이 형성됨. \n",
    "원시별 단계:핵융합 반응이 바로 시작되며 중심부 온도가 약 1천만 K로 상승. \n",
    "주계열성 단계 핵융합 시작:중심부 온도가 약 10억 K에 도달하면 수소가 헬륨으로 융합되며 에너지를 방출. \n",
    "특징:별은 내부의 중력과 외부로 나가는 방사압이 균형을 이루지 못하며 진동을 반복.질량이 클수록 수명이 길어지고 더 밝으며 온도는 낮아짐. \n",
    "거성 또는 초거성 단계 핵융합 종료 후 부풀어오름:중심부의 수소가 모두 소모되면 별 전체가 서서히 수축하며 적색 거성 또는 초거성이 됨. \n",
    "핵융합 반복:질량이 큰 별은 헬륨 이후에도 탄소, 산소, 규소 등을 융합하며 금까지 생성. 별의 최후: 질량에 따른 진화\n",
    "(1) 질량이 작은 별 (태양과 비슷한 별) 행성상 성운:핵융합 종료 후 바깥층이 우주로 방출되지 않고 중심부로 흡수됨. 백색왜성:중심부가 폭발하여 작은 규모의 초신성이 형성됨.\n",
    "(2) 질량이 큰 별 초신성 폭발:핵융합으로 헬륨까지만 생성된 후 더 이상 에너지를 방출할 수 없어 중력이 붕괴. 중성자별:초신성 폭발 후 남은 별의 중심부가 수소로 이루어진 별로 변환됨. 블랙홀:질량이 큰 별은 외곽층이 모두 날아가며, 작은 블랙홀이 형성됨. 별의 진화 요약 질량이 작은 별 → 초거성 → 행성상 성운 → 백색왜성 질량이 큰 별 → 적색 거성 → 초신성 → (질량에 따라) 행성상 성운 또는 중성자별\n",
    "\"\"\""
   ]
  },
  {
   "cell_type": "code",
   "execution_count": 53,
   "metadata": {},
   "outputs": [
    {
     "name": "stdout",
     "output_type": "stream",
     "text": [
      "\n",
      "피드백 1: 틀린 내용\n",
      "\n",
      "- 성운 단계에서 중심부가 차가워진다는 설명은 정확하지 않습니다. 중심부가 가열되며, 별이 형성되기 시작합니다.\n",
      "- 원시별 단계에서 핵융합 반응이 바로 시작되지 않습니다. 중심부 온도가 상승하여 핵융합이 시작되는 단계입니다.\n",
      "- 주계열성 단계에서 별은 내부의 중력과 외부로 나가는 방사압이 균형을 이룹니다. 진동을 반복하지 않습니다.\n",
      "- 질량이 클수록 수명이 짧아지고, 더 밝으며 온도는 높아집니다.\n",
      "- 질량이 작은 별의 진화 과정에서 행성상 성운은 바깥층이 우주로 방출되며 형성됩니다. 중심부로 흡수되지 않습니다.\n",
      "- 질량이 작은 별의 진화 과정에서 백색왜성은 중심부가 폭발하여 형성되지 않습니다. 중심부가 수축하여 형성됩니다.\n",
      "- 질량이 큰 별의 진화 과정에서 초신성 폭발 후 남은 별의 중심부가 수소로 이루어진 별로 변환되지 않습니다. 중성자별로 형성됩니다.\n",
      "- 질량이 큰 별의 진화 과정에서 외곽층이 모두 날아가며, 작은 블랙홀이 형성되지 않습니다. 질량이 충분히 큰 경우 블랙홀이 형성됩니다.\n",
      "\n",
      "피드백 2: 고칠 내용\n",
      "\n",
      "- 성운 단계에서 중심부가 가열된다고 수정해야 합니다.\n",
      "- 원시별 단계에서 중심부 온도가 상승하여 핵융합이 시작되는 단계라고 수정해야 합니다.\n",
      "- 주계열성 단계에서 별은 내부의 중력과 외부로 나가는 방사압이 균형을 이룬다고 수정해야 합니다.\n",
      "- 질량이 클수록 수명이 짧아진다는 내용으로 수정해야 합니다.\n",
      "- 질량이 작은 별의 진화 과정에서 행성상 성운은 바깥층이 우주로 방출되며 형성된다고 수정해야 합니다.\n",
      "- 질량이 작은 별의 진화 과정에서 백색왜성은 중심부가 수축하여 형성된다고 수정해야 합니다.\n",
      "- 질량이 큰 별의 진화 과정에서 초신성 폭발 후 남은 별의 중심부가 중성자별로 형성된다고 수정해야 합니다.\n",
      "- 질량이 큰 별의 진화 과정에서 질량이 충분히 큰 경우 블랙홀이 형성된다고 수정해야 합니다.\n",
      "\n",
      "피드백 3: 해설\n",
      "\n",
      "별의 형성 과정과 진화 단계에 대한 설명은 대체로 정확하지만, 일부 개념과 설명이 잘못되어 있습니다. 잘못된 부분을 수정하여 정확한 개념을 학습하는 것이 중요합니다.\n",
      "11.498262882232666\n"
     ]
    }
   ],
   "source": [
    "def provide_feedback(input_text):\n",
    "    # LLM을 이용해 피드백 요청\n",
    "    llm = ChatUpstage(api_key=UPSTAGE_API_KEY,model=\"solar-pro\")\n",
    "    \n",
    "    prompt = f\"\"\"\n",
    "    다음 사용자가 공부하며 작성한 텍스트에 대해 수능 문제를 푸는 사람을 대상으로 피드백을 작성해주세요.\n",
    "    잘못된 개념 학습을 방지하기 위해 피드백을 제공하고자 합니다.\n",
    "    피드백은 틀린 내용, 고칠 내용, 해설 순으로 작성되어야 하며, 피드백이 여러 개 있을 경우 번호를 매기세요.\n",
    "    해설은 간결하게 제공해주세요.\n",
    "    텍스트: {input_text}\n",
    "    \"\"\"\n",
    "\n",
    "    # LLM 호출\n",
    "    response = llm.invoke(prompt)\n",
    "    \n",
    "    # 전체 응답을 그대로 반환\n",
    "    return response.content\n",
    "\n",
    "start = time.time()\n",
    "# 피드백 제공\n",
    "feedback = provide_feedback(text)\n",
    "\n",
    "# 전체 피드백 출력\n",
    "print(feedback)\n",
    "\n",
    "end = time.time()\n",
    "print(end-start)"
   ]
  },
  {
   "cell_type": "code",
   "execution_count": 54,
   "metadata": {},
   "outputs": [],
   "source": [
    "from langchain_community.document_loaders import PyMuPDFLoader\n",
    "from langchain_core.output_parsers import StrOutputParser\n",
    "from langchain_core.prompts import PromptTemplate\n",
    "from langchain_core.runnables import RunnablePassthrough\n",
    "from langchain_pinecone import PineconeVectorStore\n",
    "from langchain_text_splitters import RecursiveCharacterTextSplitter\n",
    "from langchain_upstage import ChatUpstage, UpstageEmbeddings\n",
    "from pinecone import Pinecone, ServerlessSpec"
   ]
  },
  {
   "cell_type": "code",
   "execution_count": 55,
   "metadata": {},
   "outputs": [],
   "source": [
    "import os\n",
    "\n",
    "def langsmith(project_name=None, set_enable=True):\n",
    "\n",
    "    if set_enable:\n",
    "        result = os.environ.get(\"LANGCHAIN_API_KEY\")\n",
    "        if result is None or result.strip() == \"\":\n",
    "            print(\"LangChain API Key가 설정되지 않았습니다. 참고: https://wikidocs.net/250954\")\n",
    "            return\n",
    "        os.environ[\"LANGCHAIN_ENDPOINT\"] = \"https://api.smith.langchain.com\"  # LangSmith API 엔드포인트\n",
    "        os.environ[\"LANGCHAIN_TRACING_V2\"] = \"true\"  # true: 활성화\n",
    "        os.environ[\"LANGCHAIN_PROJECT\"] = project_name  # 프로젝트명\n",
    "        print(f\"LangSmith 추적을 시작합니다.\\n[프로젝트명]\\n{project_name}\")\n",
    "    else:\n",
    "        os.environ[\"LANGCHAIN_TRACING_V2\"] = \"false\"  # false: 비활성화\n",
    "        print(\"LangSmith 추적을 하지 않습니다.\")\n"
   ]
  },
  {
   "cell_type": "code",
   "execution_count": 56,
   "metadata": {},
   "outputs": [
    {
     "name": "stdout",
     "output_type": "stream",
     "text": [
      "LangSmith 추적을 시작합니다.\n",
      "[프로젝트명]\n",
      "rag-test\n",
      "\n",
      "1. 틀린 내용: 별의 형성 단계에서 원시별이 형성되는 과정과 주계열성 단계에서의 특징에 대한 설명이 잘못되었습니다.\n",
      "   고칠 내용: 성운 단계에서 원시별이 형성되는 과정은 온도가 상승하는 것이 아니라, 중력에 의해 수축하면서 온도가 상승하여 중심부가 뜨거워지는 것입니다. 주계열성 단계에서 별은 내부의 중력과 외부로 나가는 방사압이 균형을 이루며 안정적인 상태를 유지합니다. 질량이 클수록 수명이 짧아지며, 더 밝고 온도는 낮아집니다.\n",
      "2. 틀린 내용: 거성 또는 초거성 단계에서의 핵융합과 별의 최후에 대한 설명이 잘못되었습니다.\n",
      "   고칠 내용: 거성 또는 초거성 단계에서 별은 중심부의 수소가 모두 소모되면 헬륨을 융합하며, 질량이 큰 별은 헬륨 이후에도 탄소, 산소, 규소 등을 융합합니다. 별의 최후에서 질량이 작은 별은 행성상 성운을 형성하며, 중심부가 백색왜성이 됩니다. 질량이 큰 별은 초신성 폭발 후 중성자별 또는 블랙홀이 됩니다.\n",
      "\n",
      "해설:\n",
      "별의 형성 과정은 크게 성운 단계, 원시별 단계, 주계열성 단계, 거성 또는 초거성 단계, 초신성 폭발 단계 등으로 나뉩니다. 성운 단계에서 가스와 먼지 구름이 중력에 의해 수축하면서 원시별이 형성됩니다. 원시별 단계에서 온도가 상승하여 중심부가 뜨거워지며, 주계열성 단계에서 수소가 헬륨으로 융합되며 에너지를 방출합니다. 질량이 큰 별은 헬륨 이후에도 더 무거운 원소를 융합하며, 초신성 폭발 후 중성자별 또는 블랙홀이 됩니다.\n",
      "time: 12.092020750045776\n"
     ]
    }
   ],
   "source": [
    "def analysis_chunk(input_data):\n",
    "    # LangSmith 시작\n",
    "    langsmith(\"rag-test\")\n",
    "    db_index_name = \"dev-02\"\n",
    "\n",
    "    # Pinecone 연결\n",
    "    pc = Pinecone()\n",
    "    index = pc.Index(db_index_name)\n",
    "    embeddings = UpstageEmbeddings(model=\"embedding-query\")\n",
    "    vectorstore = PineconeVectorStore(index=index, embedding=embeddings)\n",
    "\n",
    "    # 검색기(Retriever) 생성\n",
    "    retriever = vectorstore.as_retriever()\n",
    "\n",
    "    # 입력 데이터와 관련된 정보 검색\n",
    "    retrieved_docs = retriever.invoke(input_data)\n",
    "    top_k_docs = retrieved_docs[:3]  # 상위 3개 문서 가져오기\n",
    "\n",
    "    # 문서 내용 합치기\n",
    "    doc_contexts = \"\\n\\n\".join([doc.page_content for doc in top_k_docs])\n",
    "    rag_ids = [doc.id for doc in top_k_docs]\n",
    "\n",
    "    # 프롬프트 템플릿 생성 (피드백 형식)\n",
    "    prompt = PromptTemplate.from_template(\n",
    "        \"\"\"\n",
    "        다음 사용자가 공부하며 작성한 입력에 대해 정보를 반영하여 수능 문제를 푸는 사람을 대상으로 피드백을 작성해주세요.\n",
    "        잘못된 개념 학습을 방지하기 위해 피드백을 제공하고자 합니다.\n",
    "        피드백은  틀린 내용, 고칠 내용, 해설 순으로 작성되어야 하며, 피드백이 여러 개 있을 경우 번호를 매기세요.\n",
    "        해설은 간결하게 제공해주세요.\n",
    "\n",
    "        # 정보:\n",
    "        {context}\n",
    "\n",
    "        # 입력:\n",
    "        {question}\n",
    "\n",
    "        # 답:\n",
    "        \"\"\"\n",
    "    )\n",
    "    \n",
    "    # 언어모델(LLM) 생성\n",
    "    llm = ChatUpstage(model=\"solar-pro\")\n",
    "    \n",
    "    # RAG: 문서 검색 후 피드백 생성\n",
    "    chain = RunnablePassthrough() | prompt | llm | StrOutputParser()\n",
    "    \n",
    "    # RAG 체인 실행\n",
    "    response = chain.invoke({\"context\": doc_contexts, \"question\": input_data})\n",
    "\n",
    "    # 결과 반환\n",
    "    return {\n",
    "        \"rag_ids\": rag_ids,\n",
    "        \"response\": response,\n",
    "    }\n",
    "\n",
    "start = time.time()\n",
    "# 피드백 제공\n",
    "feedback = analysis_chunk(text)\n",
    "\n",
    "# 전체 피드백 출력\n",
    "print(feedback['response'])\n",
    "end = time.time()\n",
    "print(f'time: {end-start}')\n"
   ]
  },
  {
   "cell_type": "markdown",
   "metadata": {},
   "source": [
    "## 2. 퀴즈"
   ]
  },
  {
   "cell_type": "code",
   "execution_count": 57,
   "metadata": {},
   "outputs": [
    {
     "name": "stdout",
     "output_type": "stream",
     "text": [
      "\n",
      "1. 별의 형성에서 성운 단계는 가스와 먼지 구름이 수축하며 원시별을 형성하는 단계이다. (O/X)\n",
      "   정답: O\n",
      "   설명: 성운 단계는 가스와 먼지 구름이 수축하며 중심부가 차가워지고 밀도가 높아져 원시별을 형성하는 단계입니다.\n",
      "\n",
      "2. 원시별 단계에서 중심부 온도는 약 1천만 K까지 상승한다. (O/X)\n",
      "   정답: O\n",
      "   설명: 원시별 단계에서 중심부 온도가 약 1천만 K까지 상승하며, 핵융합 반응이 시작됩니다.\n",
      "\n",
      "3. 질량이 작은 별은 적색 거성 단계를 거치지 않고 바로 백색왜성으로 진화하는가? (O/X)\n",
      "   정답: X\n",
      "   설명: 질량이 작은 별은 적색 거성 단계를 거쳐 행성상 성운을 형성한 후 백색왜성으로 진화하는 과정을 거칩니다.\n",
      "\n",
      "4. 초신성 폭발 후 남은 별의 중심부는 중성자별로 변환된다. (O/X)\n",
      "   정답: O\n",
      "   설명: 초신성 폭발 후 남은 별의 중심부는 중성자별로 변환되며, 이는 매우 밀도가 높은 천체입니다.\n",
      "\n",
      "5. 별의 진화에서 질량이 클수록 수명이 길어지고, 온도는 낮아진다. (O/X)\n",
      "   정답: O\n",
      "   설명: 별의 진화에서 질량이 클수록 수명이 길어지고, 온도는 낮아지는 특징이 있습니다. 이는 질량이 큰 별이 더 많은 연료를 가지고 있기 때문입니다.\n",
      "8.0101318359375\n"
     ]
    }
   ],
   "source": [
    "def provide_quiz(input_text):\n",
    "    # LLM을 이용해 피드백 요청\n",
    "    llm = ChatUpstage(api_key=UPSTAGE_API_KEY,model=\"solar-pro\")\n",
    "    \n",
    "    prompt = f\"\"\"\n",
    "    아래 텍스트를 기반으로 수능 수준의 O/X 퀴즈 5개를 만들어주세요. \n",
    "    다음 조건을 충족해야 합니다:\n",
    "    1. 질문은 개념 이해와 문제 해결 능력을 평가할 수 있어야 합니다.\n",
    "    2. 정답이 \"O\"인 문제와 \"X\"인 문제의 비율은 균형 있게 구성해주세요.\n",
    "    3. 질문의 난이도는 수능 수준에 맞춰 구체적이고 사고를 요하는 내용을 포함해야 합니다.\n",
    "    4. 각 질문의 정답에 대한 설명은 간결하지만 충분히 납득 가능하게 작성해주세요.\n",
    "    \n",
    "    텍스트: {input_text}\n",
    "    \"\"\"\n",
    "\n",
    "    # LLM 호출\n",
    "    response = llm.invoke(prompt)\n",
    "    \n",
    "    # 전체 응답을 그대로 반환\n",
    "    return response.content\n",
    "\n",
    "start = time.time()\n",
    "# 피드백 제공\n",
    "feedback = provide_quiz(text)\n",
    "\n",
    "# 전체 피드백 출력\n",
    "print(feedback)\n",
    "\n",
    "end = time.time()\n",
    "print(end-start)"
   ]
  },
  {
   "cell_type": "code",
   "execution_count": 58,
   "metadata": {},
   "outputs": [
    {
     "name": "stdout",
     "output_type": "stream",
     "text": [
      "LangSmith 추적을 시작합니다.\n",
      "[프로젝트명]\n",
      "rag-test\n",
      "1. 태양보다 질량이 작은 별은 초신성 폭발 없이 백색왜성으로 진화하는 것이 일반적이다. (O)\n",
      "   설명: 태양과 비슷한 질량을 가진 별들은 적색 거성 단계를 거쳐 행성상 성운을 형성하고, 중심부의 작은 규모의 초신성 폭발 후 백색왜성이 된다.\n",
      "\n",
      "2. H–R도에서 별의 색지수가 높을수록 표면 온도가 높다. (X)\n",
      "   설명: H–R도에서 별의 색지수가 높을수록 표면 온도가 낮다. 색지수는 별의 색을 나타내며, 색지수가 높을수록 별의 색은 붉은색에 가깝다.\n",
      "\n",
      "3. 주계열성 단계에서 별의 수명은 질량에 반비례한다. (O)\n",
      "   설명: 주계열성 단계에서 별의 수명은 질량에 반비례한다. 질량이 큰 별은 수소가 더 빨리 소모되어 수명이 짧아진다.\n",
      "\n",
      "4. 초신성 폭발 후 남은 별의 중심부는 항상 블랙홀이 된다. (X)\n",
      "   설명: 초신성 폭발 후 남은 별의 중심부는 질량에 따라 중성자별 또는 블랙홀이 된다. 질량이 작은 별은 중성자별이 되고, 매우 큰 별은 블랙홀이 된다.\n",
      "\n",
      "5. 별이 적색 거성 또는 초거성이 되면 중심부의 온도가 다시 상승하여 핵융합이 재개된다. (O)\n",
      "   설명: 별이 적색 거성 또는 초거성이 되면 중심부의 온도가 다시 상승하여 헬륨, 탄소, 산소 등을 융합하는 핵융합 반응이 재개된다.\n",
      "time: 17.87035608291626\n"
     ]
    }
   ],
   "source": [
    "def analysis_chunk(input_data):\n",
    "    # LangSmith 시작\n",
    "    langsmith(\"rag-test\")\n",
    "    db_index_name = \"dev-02\"\n",
    "\n",
    "    # Pinecone 연결\n",
    "    pc = Pinecone()\n",
    "    index = pc.Index(db_index_name)\n",
    "    embeddings = UpstageEmbeddings(model=\"embedding-query\")\n",
    "    vectorstore = PineconeVectorStore(index=index, embedding=embeddings)\n",
    "\n",
    "    # 검색기(Retriever) 생성\n",
    "    retriever = vectorstore.as_retriever()\n",
    "\n",
    "    # 입력 데이터와 관련된 정보 검색\n",
    "    retrieved_docs = retriever.invoke(input_data)\n",
    "    doc = retrieved_docs[0]\n",
    "    doc_context = doc.page_content\n",
    "    rag_id = doc.id\n",
    "\n",
    "    # 프롬프트 템플릿 생성 (피드백 형식)\n",
    "    prompt = PromptTemplate.from_template(\n",
    "        \"\"\"\n",
    "        아래 텍스트를 기반으로 수능 수준의 O/X 퀴즈 5개를 만들어주세요. \n",
    "        다음 조건을 충족해야 합니다:\n",
    "        1. 질문은 개념 이해와 문제 해결 능력을 평가할 수 있어야 합니다.\n",
    "        2. 정답이 \"O\"인 문제와 \"X\"인 문제의 비율은 균형 있게 구성해주세요.\n",
    "        3. 질문의 난이도는 수능 수준에 맞춰 구체적이고 사고를 요하는 내용을 포함해야 합니다.\n",
    "        4. 각 질문의 정답에 대한 설명은 간결하지만 충분히 납득 가능하게 작성해주세요.\n",
    "    \n",
    "\n",
    "        #정보:\n",
    "        {context}\n",
    "\n",
    "        #입력:\n",
    "        {question}\n",
    "\n",
    "        #답:\"\"\"\n",
    "    )\n",
    "    \n",
    "    # 언어모델(LLM) 생성\n",
    "    llm = ChatUpstage(model=\"solar-pro\")\n",
    "    \n",
    "    # RAG: 문서 검색 후 피드백 생성\n",
    "    chain = RunnablePassthrough() | prompt | llm | StrOutputParser()\n",
    "    \n",
    "    # RAG 체인 실행\n",
    "    response = chain.invoke({\"context\": doc_context, \"question\": input_data})\n",
    "\n",
    "    # 결과 반환\n",
    "    return {\n",
    "        \"rag_id\": rag_id,\n",
    "        \"response\": response,\n",
    "    }\n",
    "\n",
    "start = time.time()\n",
    "# 피드백 제공\n",
    "feedback = analysis_chunk(text)\n",
    "\n",
    "# 전체 피드백 출력\n",
    "print(feedback['response'])\n",
    "end = time.time()\n",
    "print(f'time: {end-start}')"
   ]
  },
  {
   "cell_type": "code",
   "execution_count": 59,
   "metadata": {},
   "outputs": [
    {
     "data": {
      "text/plain": [
       "'\\n    1. 틀린 내용: 태양은 중성자별이 아닙니다.\\n    - 해설: 중성자별은 아주 무거운 별이 초신성 폭발을 일으킨 후 남은 잔해입니다. 반면 태양은 중성자별보다 훨씬 작은 질량을 가진 주계열성입니다.\\n\\n    2. 고칠 내용: 태양은 주계열성이다.\\n    - 해설: 태양은 현재 수소 핵융합 반응을 통해 에너지를 생성하는 주계열성 단계에 있습니다.'"
      ]
     },
     "execution_count": 59,
     "metadata": {},
     "output_type": "execute_result"
    }
   ],
   "source": [
    "provide_feedback(\"태양은 중성자별이다\")"
   ]
  },
  {
   "cell_type": "code",
   "execution_count": 63,
   "metadata": {},
   "outputs": [
    {
     "data": {
      "text/plain": [
       "'해당 문장은 사실이 아닙니다. 태양은 중심부에 있는 핵융합 반응으로 인해 빛과 열을 발생시키는 별인 항성입니다. 반면에 중성자별은 매우 거대한 별이 초신성 폭발을 일으킨 후 남은 밀도가 높은 잔해입니다.'"
      ]
     },
     "execution_count": 63,
     "metadata": {},
     "output_type": "execute_result"
    }
   ],
   "source": [
    "llm.invoke(\"다음 문장에 대한 피드백 해줘: 태양은 중성자별이다\").content"
   ]
  },
  {
   "cell_type": "code",
   "execution_count": 61,
   "metadata": {},
   "outputs": [
    {
     "data": {
      "text/plain": [
       "'1. 태양은 백색왜성인가? (X)\\n   설명: 태양은 현재 주계열성에 해당하며, 미래에는 적색거성, 행성상성운, 백색왜성의 과정을 거칠 것으로 예상됩니다. 하지만 현재로서는 중성자별이 아닌 주계열성입니다.\\n\\n2. 태양은 수소 핵융합 반응을 통해 에너지를 생성하는가? (O)\\n   설명: 태양은 수소 핵융합 반응을 통해 에너지를 생성합니다. 이 반응은 태양의 중심부에서 일어나며, 수소가 헬륨으로 변하면서 막대한 에너지를 방출합니다.\\n\\n3. 태양은 중성자별의 특징인 강한 자기장을 가지고 있는가? (X)\\n   설명: 중성자별은 매우 강한 자기장을 가지고 있지만, 태양은 이에 해당하지 않습니다. 태양의 자기장은 지구 자기장보다 강하지만, 중성자별의 자기장에는 미치지 못합니다.\\n\\n4. 태양은 중성자별과 달리 블랙홀로 붕괴하지 않을 것인가? (O)\\n   설명: 태양의 질량은 블랙홀로 붕괴하기에는 충분하지 않습니다. 태양과 같은 질량의 별은 적색거성, 행성상성운의 과정을 거쳐 백색왜성으로 진화합니다.\\n\\n5. 태양은 중성자별처럼 빠른 속도로 회전하는가? (X)\\n   설명: 중성자별은 매우 빠른 속도로 회전하는 반면, 태양은 이에 비해 훨씬 느린 속도로 회전합니다. 태양의 자전주기는 약 27일입니다.\\n   \\n각 질문에 대한 답변은 주어진 텍스트 \"태양은 중성자별이다\"에 대한 정확한 이해를 바탕으로 작성되었습니다. 이 질문들은 태양에 대한 기본적인 이해와 중성자별에 대한 지식을 평가하며, 수능 수준의 사고력을 요구합니다.'"
      ]
     },
     "execution_count": 61,
     "metadata": {},
     "output_type": "execute_result"
    }
   ],
   "source": [
    "provide_quiz(\"태양은 중성자별이다\")"
   ]
  },
  {
   "cell_type": "code",
   "execution_count": 66,
   "metadata": {},
   "outputs": [
    {
     "data": {
      "text/plain": [
       "'퀴즈 1: 태양은 중성자별로 분류될 수 있다.\\n답변: X\\n해설: 태양은 중성자별이 아니라, 주계열성입니다. 중성자별은 매우 거대한 별이 초신성 폭발 후 남은 밀도가 극도로 높은 별의 잔해입니다.\\n\\n퀴즈 2: 태양은 중성자별과 유사한 핵융합 반응을 겪는다.\\n답변: X\\n해설: 태양은 수소 핵융합 반응을 통해 에너지를 생성하지만, 중성자별은 핵융합 반응을 겪지 않습니다. 중성자별의 극도로 높은 중력은 핵융합을 억제합니다.\\n\\n퀴즈 3: 태양은 중성자별과 같은 생명주기를 갖는다.\\n답변: X\\n해설: 태양과 중성자별은 다른 유형의 별이며, 따라서 다른 생명주기를 갖습니다. 태양은 현재 주계열성 단계에 있지만, 중성자별은 초신성 폭발 후 남은 별의 잔해입니다.'"
      ]
     },
     "execution_count": 66,
     "metadata": {},
     "output_type": "execute_result"
    }
   ],
   "source": [
    "llm.invoke(\"다음 문장에 대한 개념에 대해서 OX 퀴즈 3개 내줘 답과 해설도 줘: 태양은 중성자별이다\").content"
   ]
  }
 ],
 "metadata": {
  "kernelspec": {
   "display_name": "langchain-kr-m1kd41cE-py3.11",
   "language": "python",
   "name": "python3"
  },
  "language_info": {
   "codemirror_mode": {
    "name": "ipython",
    "version": 3
   },
   "file_extension": ".py",
   "mimetype": "text/x-python",
   "name": "python",
   "nbconvert_exporter": "python",
   "pygments_lexer": "ipython3",
   "version": "3.11.9"
  }
 },
 "nbformat": 4,
 "nbformat_minor": 2
}
