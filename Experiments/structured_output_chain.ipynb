{
 "cells": [
  {
   "cell_type": "markdown",
   "metadata": {},
   "source": [
    "https://wikidocs.net/256983"
   ]
  },
  {
   "cell_type": "code",
   "execution_count": 10,
   "metadata": {},
   "outputs": [
    {
     "data": {
      "text/plain": [
       "True"
      ]
     },
     "execution_count": 10,
     "metadata": {},
     "output_type": "execute_result"
    }
   ],
   "source": [
    "# API 키를 환경변수로 관리하기 위한 설정 파일\n",
    "from dotenv import load_dotenv\n",
    "\n",
    "# API 키 정보 로드\n",
    "load_dotenv()"
   ]
  },
  {
   "cell_type": "code",
   "execution_count": 11,
   "metadata": {},
   "outputs": [
    {
     "name": "stdout",
     "output_type": "stream",
     "text": [
      "LangSmith 추적을 시작합니다.\n",
      "[프로젝트명]\n",
      "Structured-Output-Chain\n"
     ]
    }
   ],
   "source": [
    "# LangSmith 추적을 설정합니다. https://smith.langchain.com\n",
    "# !pip install langchain-teddynote\n",
    "from langchain_teddynote import logging\n",
    "\n",
    "# 프로젝트 이름을 입력합니다.\n",
    "logging.langsmith(\"Structured-Output-Chain\")"
   ]
  },
  {
   "cell_type": "code",
   "execution_count": 12,
   "metadata": {},
   "outputs": [],
   "source": [
    "from langchain_upstage import ChatUpstage\n",
    "from langchain_core.prompts import ChatPromptTemplate\n",
    "from langchain_core.pydantic_v1 import BaseModel, Field\n",
    "\n",
    "import time\n",
    "\n",
    "from typing import List"
   ]
  },
  {
   "cell_type": "markdown",
   "metadata": {},
   "source": [
    "### 1. 제공된 예제 코드 + 모델만 solar-pro 로 변경"
   ]
  },
  {
   "cell_type": "code",
   "execution_count": 13,
   "metadata": {},
   "outputs": [
    {
     "name": "stdout",
     "output_type": "stream",
     "text": [
      "1. What is the distance between the sun and the earth? (난이도: easy)\n",
      "   1) 300 million kilometers\n",
      "   2) 150 million kilometers\n",
      "   3) 1 million kilometers\n",
      "   4) 15 million kilometers\n",
      "\n",
      "2. What is the largest constellation in the sky? (난이도: medium)\n",
      "   1) Ursa Major\n",
      "   2) Orion\n",
      "   3) Pegasus\n",
      "   4) Draco\n",
      "\n",
      "3. What is the smallest planet in our solar system? (난이도: difficult)\n",
      "   1) Mercury\n",
      "   2) Venus\n",
      "   3) Mars\n",
      "   4) Pluto\n",
      "\n",
      "9.722112655639648\n"
     ]
    }
   ],
   "source": [
    "start_time = time.time()\n",
    "\n",
    "class Quiz(BaseModel):\n",
    "    \"\"\"4지선다형 퀴즈의 정보를 추출합니다\"\"\"\n",
    "\n",
    "    question: str = Field(..., description=\"퀴즈의 질문\")\n",
    "    level: str = Field(\n",
    "        ..., description=\"퀴즈의 난이도를 나타냅니다. (쉬움, 보통, 어려움)\"\n",
    "    )\n",
    "    options: List[str] = Field(..., description=\"퀴즈의 4개의 선택지 입니다.\")\n",
    "\n",
    "\n",
    "llm = ChatUpstage(model=\"solar-pro\", temperature=0.8)\n",
    "prompt = ChatPromptTemplate.from_messages(\n",
    "    [\n",
    "        (\n",
    "            \"system\",\n",
    "            \"You're a world-famous quizzer and generates quizzes in structured formats.\",\n",
    "        ),\n",
    "        (\n",
    "            \"human\",\n",
    "            \"TOPIC 에 제시된 내용과 관련한 4지선다형 퀴즈를 한국어로 출제해 주세요. 만약, 실제 출제된 기출문제가 있다면 비슷한 문제를 만들어 출제하세요.\"\n",
    "            \"단, 문제에 TOPIC 에 대한 내용이나 정보는 포함하지 마세요. \\nTOPIC:\\n{topic}\",\n",
    "        ),\n",
    "        (\"human\", \"Tip: Make sure to answer in the correct format\"),\n",
    "    ]\n",
    ")\n",
    "\n",
    "class QuizList(BaseModel):\n",
    "    quizzes: List[Quiz]\n",
    "\n",
    "llm_with_structured_output = llm.with_structured_output(QuizList)\n",
    "chain = prompt | llm_with_structured_output\n",
    "\n",
    "# 여러 개의 퀴즈 생성\n",
    "generated_quizzes = chain.invoke({\"topic\": \"수능 지구과학2\"})\n",
    "\n",
    "# 출력\n",
    "for idx, quiz in enumerate(generated_quizzes.quizzes, 1):\n",
    "    print(f\"{idx}. {quiz.question} (난이도: {quiz.level})\")\n",
    "    for i, opt in enumerate(quiz.options):\n",
    "        print(f\"   {i+1}) {opt}\")\n",
    "    print()\n",
    "    \n",
    "end_time=time.time()\n",
    "print(end_time-start_time)"
   ]
  },
  {
   "cell_type": "markdown",
   "metadata": {},
   "source": [
    "### 2. O/X 로 변경"
   ]
  },
  {
   "cell_type": "code",
   "execution_count": 14,
   "metadata": {},
   "outputs": [
    {
     "name": "stdout",
     "output_type": "stream",
     "text": [
      "1. 수능 지구과학2에서, 만유인력의 법칙은 물리적 영향을 주는 원리를 설명합니다. (난이도: 보통)\n",
      "   1) X\n",
      "   2) X\n",
      "\n",
      "2. 지구과학에서, 지구의 자전은 지구의 자전에 의해 발생합니다. (난이도: 어려움)\n",
      "   1) O\n",
      "   2) X\n",
      "\n",
      "6.903207302093506\n"
     ]
    }
   ],
   "source": [
    "class Quiz(BaseModel):\n",
    "    \"\"\"OX 퀴즈의 정보를 추출합니다\"\"\"\n",
    "\n",
    "    question: str = Field(..., description=\"퀴즈의 질문\")\n",
    "    level: str = Field(\n",
    "        ..., description=\"퀴즈의 난이도를 나타냅니다. (쉬움, 보통, 어려움)\"\n",
    "    )\n",
    "    options: List[str] = Field(..., description=\"퀴즈의 답은 O 또는 X 입니다.\")\n",
    "\n",
    "start_time = time.time()\n",
    "llm = ChatUpstage(model=\"solar-pro\", temperature=0.8)\n",
    "prompt = ChatPromptTemplate.from_messages(\n",
    "    [\n",
    "        (\n",
    "            \"system\",\n",
    "            \"You're a world-famous quizzer and generates quizzes in structured formats.\",\n",
    "        ),\n",
    "        (\n",
    "            \"human\",\n",
    "            \"TOPIC 에 제시된 내용과 관련한 OX 퀴즈를 한국어로 출제해 주세요. 만약, 실제 출제된 기출문제가 있다면 비슷한 문제를 만들어 출제하세요.\"\n",
    "            \"단, 문제에 TOPIC 에 대한 내용이나 정보는 포함하지 마세요. \\nTOPIC:\\n{topic}\",\n",
    "        ),\n",
    "        (\"human\", \"Tip: Make sure to answer in the correct format\"),\n",
    "    ]\n",
    ")\n",
    "\n",
    "class QuizList(BaseModel):\n",
    "    quizzes: List[Quiz]\n",
    "\n",
    "llm_with_structured_output = llm.with_structured_output(QuizList)\n",
    "chain = prompt | llm_with_structured_output\n",
    "\n",
    "# 여러 개의 퀴즈 생성\n",
    "generated_quizzes = chain.invoke({\"topic\": \"수능 지구과학2\"})\n",
    "\n",
    "# 출력\n",
    "for idx, quiz in enumerate(generated_quizzes.quizzes, 1):  \n",
    "    print(f\"{idx}. {quiz.question} (난이도: {quiz.level})\")\n",
    "    for i, opt in enumerate(quiz.options):\n",
    "        print(f\"   {i+1}) {opt}\")\n",
    "    print()\n",
    "\n",
    "end_time = time.time()\n",
    "print(end_time - start_time)"
   ]
  },
  {
   "cell_type": "code",
   "execution_count": 15,
   "metadata": {},
   "outputs": [
    {
     "data": {
      "text/plain": [
       "Quiz(question='지구과학에서, 지구의 자전은 지구의 자전에 의해 발생합니다.', level='어려움', options=['O', 'X'])"
      ]
     },
     "execution_count": 15,
     "metadata": {},
     "output_type": "execute_result"
    }
   ],
   "source": [
    "quiz"
   ]
  },
  {
   "cell_type": "markdown",
   "metadata": {},
   "source": [
    "### 3. 답 저장 + 퀴즈 여러 개"
   ]
  },
  {
   "cell_type": "code",
   "execution_count": 16,
   "metadata": {},
   "outputs": [
    {
     "name": "stdout",
     "output_type": "stream",
     "text": [
      "1. 성운 단계와 원시별 단계에서 별이 형성되는가? (난이도: 보통)\n",
      "   1) O\n",
      "   2) X\n",
      "정답: O\n",
      "\n",
      "2. 성운 단계와 원시별 단계에서 핵융합 반응이 일어나는가? (난이도: 보통)\n",
      "   1) O\n",
      "   2) X\n",
      "정답: X\n",
      "\n",
      "3. 성운 단계와 원시별 단계에서 별이 형성되는가? (난이도: 보통)\n",
      "   1) O\n",
      "   2) X\n",
      "정답: X\n",
      "\n",
      "4. 성운 단계와 원시별 단계에서 중심부 온도가 급격히 상승하는가? (난이도: 보통)\n",
      "   1) O\n",
      "   2) X\n",
      "정답: O\n",
      "\n",
      "5. 성운 단계와 원시별 단계에서 핵융합 반응이 일어나는가? (난이도: 보통)\n",
      "   1) O\n",
      "   2) X\n",
      "정답: X\n",
      "\n",
      "13.313021898269653\n"
     ]
    }
   ],
   "source": [
    "class Quiz(BaseModel):\n",
    "    \"\"\"OX 퀴즈의 정보를 추출합니다\"\"\"\n",
    "    question: str = Field(..., description=\"퀴즈의 질문\")\n",
    "    level: str = Field(..., description=\"퀴즈의 난이도를 나타냅니다. (쉬움, 보통, 어려움)\")\n",
    "    options: List[str] = Field(..., description=\"퀴즈의 답은 O 또는 X 입니다.\")\n",
    "    answer: str = Field(..., description=\"정답은 O 또는 X 입니다.\")  # 정답 추가\n",
    "\n",
    "llm = ChatUpstage(model=\"solar-pro\", temperature=0.8)\n",
    "\n",
    "# 텍스트를 분석하여 관련 개념에 대한 OX 퀴즈를 생성하는 프롬프트\n",
    "prompt = ChatPromptTemplate.from_messages(\n",
    "    [\n",
    "        (\n",
    "            \"system\",\n",
    "            \"You're a quiz master who generates OX quizzes based on the provided context. Ensure the quizzes are scientifically accurate and in OX format.\",\n",
    "        ),\n",
    "        (\n",
    "            \"human\",\n",
    "            \"제공된 내용에 대해 OX 퀴즈를 5개 만들어 주세요. 텍스트 내용에서 잘못된 부분이 있으면 그것도 반영하여 출제해주세요. \\n\\nTOPIC:\\n{topic}\",\n",
    "        ),\n",
    "        (\"human\", \"Tip: Make sure to answer in the correct format.\"),\n",
    "    ]\n",
    ")\n",
    "\n",
    "class QuizList(BaseModel):\n",
    "    quizzes: List[Quiz]\n",
    "\n",
    "start_time = time.time()\n",
    "\n",
    "llm_with_structured_output = llm.with_structured_output(QuizList)\n",
    "chain = prompt | llm_with_structured_output\n",
    "\n",
    "# 주어진 내용에 대해 퀴즈 생성\n",
    "generated_quizzes = chain.invoke({\"topic\": \"별의 형성 성운 단계:성운(가스와 먼지 구름)이 온도 하강으로 인해 수축이 시작. 중심부가 차가워지며 밀도가 높아지고, 원시별이 형성됨. 원시별 단계:핵융합 반응이 바로 시작되며 중심부 온도가 약 1천만 K로 상승.\"})\n",
    "\n",
    "# 생성된 퀴즈 출력\n",
    "for idx, quiz in enumerate(generated_quizzes.quizzes, 1):\n",
    "    print(f\"{idx}. {quiz.question} (난이도: {quiz.level})\")\n",
    "    for i, opt in enumerate(quiz.options):\n",
    "        print(f\"   {i+1}) {opt}\")\n",
    "    print(f\"정답: {quiz.answer}\")  # 정답 출력\n",
    "    print()\n",
    "\n",
    "end_time=time.time()\n",
    "print(end_time-start_time)"
   ]
  },
  {
   "cell_type": "code",
   "execution_count": 17,
   "metadata": {},
   "outputs": [
    {
     "data": {
      "text/plain": [
       "QuizList(quizzes=[Quiz(question='성운 단계와 원시별 단계에서 별이 형성되는가?', level='보통', options=['O', 'X'], answer='O'), Quiz(question='성운 단계와 원시별 단계에서 핵융합 반응이 일어나는가?', level='보통', options=['O', 'X'], answer='X'), Quiz(question='성운 단계와 원시별 단계에서 별이 형성되는가?', level='보통', options=['O', 'X'], answer='X'), Quiz(question='성운 단계와 원시별 단계에서 중심부 온도가 급격히 상승하는가?', level='보통', options=['O', 'X'], answer='O'), Quiz(question='성운 단계와 원시별 단계에서 핵융합 반응이 일어나는가?', level='보통', options=['O', 'X'], answer='X')])"
      ]
     },
     "execution_count": 17,
     "metadata": {},
     "output_type": "execute_result"
    }
   ],
   "source": [
    "generated_quizzes"
   ]
  },
  {
   "cell_type": "markdown",
   "metadata": {},
   "source": [
    "### 4. 해설 저장 & 옵션 제거 & 난이도 제거 & 프롬프트 일부 수정"
   ]
  },
  {
   "cell_type": "code",
   "execution_count": 32,
   "metadata": {},
   "outputs": [
    {
     "name": "stdout",
     "output_type": "stream",
     "text": [
      "1. 성운이 수축하여 차가워지고 밀도가 높아지면, 중심부에 원시별이 형성된다.\n",
      "정답: O\n",
      "해설: 성운이 수축하면서 중심부가 차갑고 밀도가 높아지면서 원시별이 형성된다.\n",
      "\n",
      "2. 원시별 단계에서 중심부는 1000만 K로 가열된다.\n",
      "정답: X\n",
      "해설: 원시별 단계에서 중심부는 약 1천만 K로 가열된다.\n",
      "\n",
      "3. 성운 단계에서 성운은 가스와 먼지로 이루어져 있다.\n",
      "정답: O\n",
      "해설: 성운은 가스와 먼지로 이루어져 있다.\n",
      "\n",
      "4. 원시별 단계에서 중심부 온도는 1000만 K보다 낮다.\n",
      "정답: X\n",
      "해설: 원시별 단계에서 중심부 온도는 약 1천만 K로 상승한다.\n",
      "\n",
      "5. 성운 단계에서 성운은 밀도가 증가한다.\n",
      "정답: O\n",
      "해설: 성운 단계에서 성운은 밀도가 증가한다.\n",
      "\n",
      "14.098474264144897\n"
     ]
    }
   ],
   "source": [
    "class Quiz(BaseModel):\n",
    "    \"\"\"OX 퀴즈의 정보를 추출합니다\"\"\"\n",
    "    question: str = Field(..., description=\"퀴즈의 질문\")\n",
    "    answer: str = Field(..., description=\"정답은 O 또는 X 입니다.\")  # 정답\n",
    "    explanation: str = Field(..., description=\"문제의 해설을 제공합니다.\")  # 해설\n",
    "\n",
    "class QuizList(BaseModel):\n",
    "    quizzes: List[Quiz]\n",
    "\n",
    "llm = ChatUpstage(model=\"solar-pro\", temperature=0.8)\n",
    "\n",
    "# 퀴즈 생성 프롬프트\n",
    "prompt = ChatPromptTemplate.from_messages(\n",
    "    [\n",
    "        (\n",
    "            \"system\",\n",
    "            \"You're a quiz master who generates OX quizzes based on the provided context. Ensure the quizzes are scientifically accurate and in OX format.\",\n",
    "        ),\n",
    "        (\n",
    "            \"human\",\n",
    "            \"제공된 내용에 대해 OX 퀴즈를 5개 만들어 주세요. \"\n",
    "            \"질문은 개념 이해와 문제 해결 능력을 평가할 수 있어야 합니다.\"\n",
    "            \"정답이 'O'인 문제와 'X'인 문제의 비율은 균형 있게 구성해주세요.\"\n",
    "            \"질문의 난이도는 수능 수준에 맞춰 구체적이고 사고를 요하는 내용을 포함해야 합니다.\"\n",
    "            \"각 질문의 정답에 대한 설명은 간결하지만 충분히 납득 가능하게 작성해주세요.\"\n",
    "            \"각 문제에 대해 정답(O 또는 X)과 정확한 해설도 제공해주세요. \\n\\nTOPIC:\\n{topic}\",\n",
    "        ),\n",
    "        (\"human\", \"Tip: Make sure to answer in the correct format.\"),\n",
    "    ]\n",
    ")\n",
    "\n",
    "start_time = time.time()\n",
    "\n",
    "llm_with_structured_output = llm.with_structured_output(QuizList)\n",
    "chain = prompt | llm_with_structured_output\n",
    "\n",
    "# 주어진 내용에 대해 퀴즈 생성\n",
    "generated_quizzes = chain.invoke({\n",
    "    \"topic\": \"별의 형성 성운 단계:성운(가스와 먼지 구름)이 온도 하강으로 인해 수축이 시작. \"\n",
    "             \"중심부가 차가워지며 밀도가 높아지고, 원시별이 형성됨. \"\n",
    "             \"원시별 단계:핵융합 반응이 바로 시작되며 중심부 온도가 약 1천만 K로 상승.\"\n",
    "})\n",
    "\n",
    "# 생성된 퀴즈 출력\n",
    "for idx, quiz in enumerate(generated_quizzes.quizzes, 1):\n",
    "    print(f\"{idx}. {quiz.question}\")\n",
    "    print(f\"정답: {quiz.answer}\")\n",
    "    print(f\"해설: {quiz.explanation}\")\n",
    "    print()\n",
    "\n",
    "end_time = time.time()\n",
    "print(end_time - start_time)\n"
   ]
  },
  {
   "cell_type": "code",
   "execution_count": 27,
   "metadata": {},
   "outputs": [
    {
     "name": "stdout",
     "output_type": "stream",
     "text": [
      "None\n"
     ]
    }
   ],
   "source": [
    "print(generated_quizzes)"
   ]
  },
  {
   "cell_type": "code",
   "execution_count": null,
   "metadata": {},
   "outputs": [],
   "source": []
  }
 ],
 "metadata": {
  "kernelspec": {
   "display_name": "langchain-kr-m1kd41cE-py3.11",
   "language": "python",
   "name": "python3"
  },
  "language_info": {
   "codemirror_mode": {
    "name": "ipython",
    "version": 3
   },
   "file_extension": ".py",
   "mimetype": "text/x-python",
   "name": "python",
   "nbconvert_exporter": "python",
   "pygments_lexer": "ipython3",
   "version": "3.11.9"
  }
 },
 "nbformat": 4,
 "nbformat_minor": 2
}
